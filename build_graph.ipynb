{
 "cells": [
  {
   "cell_type": "code",
   "execution_count": 1,
   "metadata": {},
   "outputs": [
    {
     "name": "stdout",
     "output_type": "stream",
     "text": [
      "1.2.84\n"
     ]
    }
   ],
   "source": [
    "import numpy as np\n",
    "import pandas as pd\n",
    "import tushare as ts\n",
    "from utils import *\n",
    "print(ts.__version__)"
   ]
  },
  {
   "cell_type": "code",
   "execution_count": 2,
   "metadata": {},
   "outputs": [],
   "source": [
    "ts.set_token('1f2f092156dfe775a88e478f3a54565e0adab29246c83814e95fa0dd')\n",
    "pro = ts.pro_api()"
   ]
  },
  {
   "cell_type": "markdown",
   "metadata": {},
   "source": [
    "## 过滤概念板块"
   ]
  },
  {
   "cell_type": "code",
   "execution_count": 3,
   "metadata": {},
   "outputs": [
    {
     "name": "stdout",
     "output_type": "stream",
     "text": [
      "(34444, 6) Index(['id', 'concept_name', 'ts_code', 'name', 'in_date', 'out_date'], dtype='object')           id concept_name    ts_code  name   in_date  out_date\n",
      "34439  TS879         3D打印  603112.SH  华翔股份  20210205       NaN\n",
      "34440  TS879         3D打印  603928.SH  兴业股份  20210205       NaN\n",
      "34441  TS879         3D打印  603977.SH  国泰集团  20210205       NaN\n",
      "34442  TS879         3D打印  605376.SH  博迁新材  20210205       NaN\n",
      "34443  TS879         3D打印  688333.SH   铂力特  20210205       NaN\n",
      "873\n",
      "23928 824\n"
     ]
    }
   ],
   "source": [
    "# 过滤概念板块\n",
    "concept_stocks = pd.read_csv(\"./data/concept_stocks.csv\")  # (34444, 6)\n",
    "print(concept_stocks.shape, concept_stocks.columns, concept_stocks.tail())\n",
    "\n",
    "concept_groups = concept_stocks.groupby(\"concept_name\", as_index=False)  # 873 groups, indexed from TS0 to TS879\n",
    "print(len(concept_groups))\n",
    "#for name, group in concept_groups:\n",
    "#    if len(group) > 223 or len(group)<=2:\n",
    "#        print(name, len(group))\n",
    "concept_groups = concept_groups.filter(lambda x: len(x)<=223 and len(x)>=3)\n",
    "print(len(concept_groups), len(concept_groups.groupby(\"id\")))  # .get_group(\"TS0\")\n",
    "concept_groups.to_csv(\"./data/concept_stocks_filtered_223_3.csv\", index=False)  # 23928, 824\n",
    "# {name:gdf for name,gdf in df.groupby('Declarer') if len(gdf) >= 5}"
   ]
  },
  {
   "cell_type": "markdown",
   "metadata": {},
   "source": [
    "## 建图代码"
   ]
  },
  {
   "cell_type": "code",
   "execution_count": 4,
   "metadata": {},
   "outputs": [],
   "source": [
    "# 建图\n",
    "#  edge_index: [2, num_edges] \n",
    "def get_rind_map(indsty):\n",
    "\tgroups = pd.read_csv(indsty).groupby('id', as_index=False)\n",
    "\trind_map = {id: group[\"ts_code\"].values.tolist() for id, group in groups}\n",
    "\treturn rind_map\n",
    "\n",
    "\n",
    "def set_edge(mat, stocks, stock_id_map):\n",
    "\t# stock-stock edges\n",
    "\tfor i in range(len(stocks)):\n",
    "\t\tfor j in range(i+1, len(stocks)):\n",
    "\t\t\ts = stock_id_map.get(stocks[i], -1)\n",
    "\t\t\te = stock_id_map.get(stocks[j], -1)\n",
    "\t\t\tif s==-1 or e==-1: continue\n",
    "\t\t\tmat[s,e] = mat[e,s] = 1\n",
    "\n",
    "\n",
    "def set_heteredge(idx, mat, stocks, stock_id_map):\n",
    "\t# stock-industry edges\n",
    "\te = idx + len(stock_id_map)\n",
    "\tfor i in range(len(stocks)):\n",
    "\t\ts = stock_id_map.get(stocks[i], -1)\n",
    "\t\tif s==-1 or e==-1: continue\n",
    "\t\tmat[s,e] = mat[e,s] = 1\n",
    "\n",
    "\n",
    "def build_hetergraph(indsty, return_adj, stock_id_map):\n",
    "\tsnode_nums = len(stock_id_map)\n",
    "\trind_map = get_rind_map(indsty)\n",
    "\n",
    "\tmat = torch.eye(snode_nums+len(rind_map.keys()))  # add self loop\n",
    "\n",
    "\tfor i, (ind, stocks) in enumerate(rind_map.items()):\n",
    "\t\tset_heteredge(i, mat, stocks, stock_id_map)\n",
    "\t\t\n",
    "\tedge = mat.nonzero()\n",
    "\treturn snode_nums, snode_nums+len(rind_map.keys()), mat if return_adj == True else edge.transpose(0, 1)\n",
    "\n",
    "\n",
    "def build_graph(indsty, return_adj, stock_id_map):\n",
    "\tnode_nums = len(stock_id_map)\n",
    "\trind_map = get_rind_map(indsty)\n",
    "\n",
    "\tmat = torch.eye(node_nums)  # add self loop\n",
    "\n",
    "\tfor ind, stocks in rind_map.items():\n",
    "\t\tset_edge(mat, stocks, stock_id_map)\n",
    "\t\t\n",
    "\tedge = mat.nonzero()\n",
    "\treturn mat if return_adj == True else edge.transpose(0, 1)"
   ]
  },
  {
   "cell_type": "markdown",
   "metadata": {},
   "source": [
    "## 概念板块建图"
   ]
  },
  {
   "cell_type": "code",
   "execution_count": null,
   "metadata": {},
   "outputs": [],
   "source": [
    "\n",
    "stock_list_path = \"./data/stock_codes_1931.txt\"\n",
    "stock_id_map = get_stock_id_mapping(stock_list_path)\n",
    "adj = build_graph(\"./data/concept_stocks_filtered_223_3.csv\", True, stock_id_map)\n",
    "\n",
    "print(adj.shape)"
   ]
  },
  {
   "cell_type": "code",
   "execution_count": null,
   "metadata": {},
   "outputs": [],
   "source": [
    "np.save(\"./data/concepts_graph_1931_233_3.npy\", adj.data)"
   ]
  },
  {
   "cell_type": "code",
   "execution_count": null,
   "metadata": {},
   "outputs": [],
   "source": [
    "# 给定0-1邻接矩阵，画图，x是node degree, y是节点数目/比例\n",
    "from matplotlib import pyplot as plt\n",
    "\n",
    "adj = adj - adj.diag()  # remove self-loop\n",
    "degree_cnt = [0 for i in range(len(adj))]\n",
    "edges = 0\n",
    "for i in range(len(adj)):\n",
    "    d = int(sum(adj[i]))\n",
    "    edges += d\n",
    "    degree_cnt[d] += 1\n",
    "\n",
    "print(edges / (len(adj)**2))\n",
    "plt.plot([i for i in range(1, 600)], degree_cnt[1:600])  # x, y\n",
    "plt.xlabel(\"node degree\")\n",
    "plt.ylabel(\"node cnt\")\n",
    "plt.show()"
   ]
  }
 ],
 "metadata": {
  "interpreter": {
   "hash": "88a1846af0b3d35c4f1f99b9985c38292a199b55bfba5d10d508702572a1ca28"
  },
  "kernelspec": {
   "display_name": "Python 3.9.5 ('base')",
   "language": "python",
   "name": "python3"
  },
  "language_info": {
   "codemirror_mode": {
    "name": "ipython",
    "version": 3
   },
   "file_extension": ".py",
   "mimetype": "text/x-python",
   "name": "python",
   "nbconvert_exporter": "python",
   "pygments_lexer": "ipython3",
   "version": "3.9.5"
  },
  "orig_nbformat": 4
 },
 "nbformat": 4,
 "nbformat_minor": 2
}
